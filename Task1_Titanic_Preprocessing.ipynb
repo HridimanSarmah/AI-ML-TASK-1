{
 "cells": [
  {
   "cell_type": "markdown",
   "id": "616aae25",
   "metadata": {},
   "source": [
    "# Titanic Dataset - Data Cleaning & Preprocessing"
   ]
  },
  {
   "cell_type": "code",
   "execution_count": null,
   "id": "303f4ae5",
   "metadata": {},
   "outputs": [],
   "source": [
    "\n",
    "import pandas as pd\n",
    "import numpy as np\n",
    "from sklearn.preprocessing import StandardScaler\n",
    "\n",
    "# Sample data to simulate Titanic dataset (replace with pd.read_csv('titanic.csv') in real use)\n",
    "data = {\n",
    "    'PassengerId': [1, 2, 3, 4, 5],\n",
    "    'Survived': [0, 1, 1, 1, 0],\n",
    "    'Pclass': [3, 1, 3, 1, 3],\n",
    "    'Name': ['Allen', 'Braund', 'Heikkinen', 'Futrelle', 'Cumings'],\n",
    "    'Sex': ['male', 'female', 'female', 'female', 'female'],\n",
    "    'Age': [22.0, 38.0, 26.0, 35.0, np.nan],\n",
    "    'SibSp': [1, 1, 0, 1, 1],\n",
    "    'Parch': [0, 0, 0, 0, 0],\n",
    "    'Fare': [7.25, 71.2833, 7.925, 53.1, 8.05],\n",
    "    'Embarked': ['S', 'C', 'S', 'S', np.nan]\n",
    "}\n",
    "df = pd.DataFrame(data)\n",
    "df.head()\n"
   ]
  },
  {
   "cell_type": "markdown",
   "id": "3ff02745",
   "metadata": {},
   "source": [
    "## Step 1: Handle Missing Values"
   ]
  },
  {
   "cell_type": "code",
   "execution_count": null,
   "id": "fb810095",
   "metadata": {},
   "outputs": [],
   "source": [
    "\n",
    "df['Age'].fillna(df['Age'].median(), inplace=True)\n",
    "df['Embarked'].fillna(df['Embarked'].mode()[0], inplace=True)\n"
   ]
  },
  {
   "cell_type": "markdown",
   "id": "c661cf21",
   "metadata": {},
   "source": [
    "## Step 2: Encode Categorical Variables"
   ]
  },
  {
   "cell_type": "code",
   "execution_count": null,
   "id": "837fcdf4",
   "metadata": {},
   "outputs": [],
   "source": [
    "\n",
    "df = pd.get_dummies(df, columns=['Sex', 'Embarked'], drop_first=True)\n",
    "df.head()\n"
   ]
  },
  {
   "cell_type": "markdown",
   "id": "3ba5eced",
   "metadata": {},
   "source": [
    "## Step 3: Standardize Numerical Features"
   ]
  },
  {
   "cell_type": "code",
   "execution_count": null,
   "id": "34110d7e",
   "metadata": {},
   "outputs": [],
   "source": [
    "\n",
    "scaler = StandardScaler()\n",
    "df[['Age', 'Fare']] = scaler.fit_transform(df[['Age', 'Fare']])\n",
    "df.head()\n"
   ]
  },
  {
   "cell_type": "markdown",
   "id": "10040f52",
   "metadata": {},
   "source": [
    "## Step 4: Outlier Detection and Removal"
   ]
  },
  {
   "cell_type": "code",
   "execution_count": null,
   "id": "0562c7b5",
   "metadata": {},
   "outputs": [],
   "source": [
    "\n",
    "Q1 = df['Fare'].quantile(0.25)\n",
    "Q3 = df['Fare'].quantile(0.75)\n",
    "IQR = Q3 - Q1\n",
    "df_cleaned = df[~((df['Fare'] < (Q1 - 1.5 * IQR)) | (df['Fare'] > (Q3 + 1.5 * IQR)))]\n",
    "df_cleaned.head()\n"
   ]
  }
 ],
 "metadata": {},
 "nbformat": 4,
 "nbformat_minor": 5
}
